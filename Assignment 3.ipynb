{
 "cells": [
  {
   "cell_type": "markdown",
   "metadata": {},
   "source": [
    "# Assignment 3"
   ]
  },
  {
   "cell_type": "markdown",
   "metadata": {},
   "source": [
    "### Write a function to count the number 4 in a given list."
   ]
  },
  {
   "cell_type": "code",
   "execution_count": 1,
   "metadata": {},
   "outputs": [
    {
     "name": "stdout",
     "output_type": "stream",
     "text": [
      "4 has occurred 3 times\n"
     ]
    }
   ],
   "source": [
    "def countX(lst, x):\n",
    "    count = 0\n",
    "    for ele in lst:\n",
    "        if (ele == x):\n",
    "            count = count + 1\n",
    "    return count\n",
    " \n",
    "lst = [8, 6, 4, 10, 8, 20, 10, 4, 8,4]\n",
    "x = 4\n",
    "print('{} has occurred {} times'.format(x, countX(lst, x)))"
   ]
  },
  {
   "cell_type": "markdown",
   "metadata": {},
   "source": [
    "### write a  function to check whether a number is divisible by another number."
   ]
  },
  {
   "cell_type": "code",
   "execution_count": 2,
   "metadata": {},
   "outputs": [
    {
     "name": "stdout",
     "output_type": "stream",
     "text": [
      "Enter First  Number  10\n",
      "Enter Second Number 2\n",
      "\n",
      "10 is divisible by 2\n"
     ]
    }
   ],
   "source": [
    "num1 = int(input(\"Enter First  Number  \"))\n",
    "num2 = int(input(\"Enter Second Number \"))\n",
    "# checking divisibilty.\n",
    "if num1%num2==0:\n",
    "  print(\"\\n\" +str(num1)+ \" is divisible by \" +str(num2))\n",
    "else:\n",
    "  print(\"\\n\" +str(num1)+ \" is not divisible by \" +str(num2))"
   ]
  },
  {
   "cell_type": "markdown",
   "metadata": {},
   "source": [
    "### write a function to find the maximum and minimum numbers from a sequence of numbers."
   ]
  },
  {
   "cell_type": "code",
   "execution_count": 6,
   "metadata": {},
   "outputs": [
    {
     "name": "stdout",
     "output_type": "stream",
     "text": [
      "(85, -10)\n"
     ]
    }
   ],
   "source": [
    "def max_min(data):\n",
    "  l = data[0]\n",
    "  s = data[0]\n",
    " \n",
    "  for num in data:\n",
    "    if num> l:\n",
    "      l = num\n",
    "    elif num< s:\n",
    "        s = num\n",
    "  return l, s\n",
    "\n",
    "print(max_min([-10,0, 10, 15, 40, -5, 42, 17, 28, 75,85,60]))"
   ]
  },
  {
   "cell_type": "markdown",
   "metadata": {},
   "source": [
    "### Write a Python function that takes two lists and returns True if they have at least one common member."
   ]
  },
  {
   "cell_type": "code",
   "execution_count": 8,
   "metadata": {},
   "outputs": [
    {
     "name": "stdout",
     "output_type": "stream",
     "text": [
      "True\n"
     ]
    }
   ],
   "source": [
    "def common_data(list1, list2):\n",
    "     result = False\n",
    "     for x in list1:\n",
    "         for y in list2:\n",
    "             if x == y:\n",
    "                 result = True\n",
    "                 return result\n",
    "print(common_data([1,2,3,4,5], [5,6,7,8,9]))"
   ]
  },
  {
   "cell_type": "markdown",
   "metadata": {},
   "source": [
    "### Write a Python function to calculate the factorial of a number (a non-negative integer). The function accepts the number from the user"
   ]
  },
  {
   "cell_type": "code",
   "execution_count": 9,
   "metadata": {},
   "outputs": [
    {
     "name": "stdout",
     "output_type": "stream",
     "text": [
      "Input a number to compute the factiorial : 5\n",
      "120\n"
     ]
    }
   ],
   "source": [
    "def factorial(n):\n",
    "    if n == 0:\n",
    "        return 1\n",
    "    else:\n",
    "        return n * factorial(n-1)\n",
    "n=int(input(\"Input a number to compute the factiorial : \"))\n",
    "print(factorial(n))"
   ]
  },
  {
   "cell_type": "markdown",
   "metadata": {},
   "source": [
    "### Write a Python function to check whether a number is in a given range.\n",
    "\n",
    "### The range is from 3 to 11\n"
   ]
  },
  {
   "cell_type": "code",
   "execution_count": 11,
   "metadata": {},
   "outputs": [
    {
     "name": "stdout",
     "output_type": "stream",
     "text": [
      "The number is outside the given range.\n"
     ]
    }
   ],
   "source": [
    "def test_range(n):\n",
    "    if n in range(3,11):\n",
    "        print( \" %s is in the range\"%str(n))\n",
    "    else :\n",
    "        print(\"The number is outside the given range.\")\n",
    "test_range(15)"
   ]
  },
  {
   "cell_type": "markdown",
   "metadata": {},
   "source": [
    "### Write a  program to create the multiplication table (from 1 to 10) of a number."
   ]
  },
  {
   "cell_type": "code",
   "execution_count": 13,
   "metadata": {},
   "outputs": [
    {
     "name": "stdout",
     "output_type": "stream",
     "text": [
      "Input a number: 10\n",
      "10 x 1 = 10\n",
      "10 x 2 = 20\n",
      "10 x 3 = 30\n",
      "10 x 4 = 40\n",
      "10 x 5 = 50\n",
      "10 x 6 = 60\n",
      "10 x 7 = 70\n",
      "10 x 8 = 80\n",
      "10 x 9 = 90\n",
      "10 x 10 = 100\n"
     ]
    }
   ],
   "source": [
    "n = int(input(\"Input a number: \"))\n",
    "\n",
    "# use for loop to iterate 10 times\n",
    "for i in range(1,11):\n",
    "   print(n,'x',i,'=',n*i)"
   ]
  },
  {
   "cell_type": "markdown",
   "metadata": {},
   "source": [
    "#### LESSER OF TWO EVENS: Write a function that returns the lesser of two given numbers *if* both numbers are even, but returns the greater if one or both numbers are odd\n",
    "    lesser_of_two_evens(2,4) --> 2\n",
    "    lesser_of_two_evens(2,5) --> 5"
   ]
  },
  {
   "cell_type": "code",
   "execution_count": 17,
   "metadata": {},
   "outputs": [
    {
     "name": "stdout",
     "output_type": "stream",
     "text": [
      "2\n",
      "5\n"
     ]
    }
   ],
   "source": [
    "def lesser_of_two_evens(a,b):\n",
    "    if (a % 2 or b % 2) != 0:\n",
    "        if b > a:\n",
    "            print(b)\n",
    "        if a > b:\n",
    "            print(a)    \n",
    "    elif (a % 2 or b % 2) == 0:\n",
    "        if a < b:\n",
    "            print(a)\n",
    "        else:\n",
    "            print(b)    \n",
    "    pass\n",
    "lesser_of_two_evens(2,4)\n",
    "lesser_of_two_evens(2,5)"
   ]
  },
  {
   "cell_type": "markdown",
   "metadata": {},
   "source": [
    "#### ANIMAL CRACKERS: Write a function takes a two-word string and returns True if both words begin with same letter\n",
    "    animal_crackers('Levelheaded Llama') --> True\n",
    "    animal_crackers('Crazy Kangaroo') --> False"
   ]
  },
  {
   "cell_type": "code",
   "execution_count": 19,
   "metadata": {},
   "outputs": [
    {
     "name": "stdout",
     "output_type": "stream",
     "text": [
      "True\n",
      "False\n"
     ]
    }
   ],
   "source": [
    "def animal_crackers(string):\n",
    "    s1, s2 = string.split(' ')\n",
    "    print(s1[0].upper() == s2[0].upper())\n",
    "\n",
    "animal_crackers(\"levelheaded lama\")\n",
    "animal_crackers('Crazy Kangaroo')"
   ]
  },
  {
   "cell_type": "markdown",
   "metadata": {},
   "source": [
    "#### MAKES TWENTY: Given two integers, return True if the sum of the integers is 20 *or* if one of the integers is 20. If not, return False\n",
    "\n",
    "    makes_twenty(20,10) --> True\n",
    "    makes_twenty(12,8) --> True\n",
    "    makes_twenty(2,3) --> False"
   ]
  },
  {
   "cell_type": "code",
   "execution_count": 27,
   "metadata": {},
   "outputs": [
    {
     "name": "stdout",
     "output_type": "stream",
     "text": [
      "True\n",
      "True\n",
      "False\n"
     ]
    }
   ],
   "source": [
    "def makes_twenty(x, y):\n",
    "   if x == 20 or y== 20 or (x+y) == 20:\n",
    "       return True\n",
    "   else:\n",
    "       return False\n",
    "print(makes_twenty(20,10))\n",
    "print(makes_twenty(12,8))\n",
    "print(makes_twenty(2,3))\n"
   ]
  },
  {
   "cell_type": "markdown",
   "metadata": {},
   "source": [
    "#### ALMOST THERE: Given an integer n, return True if n is within 10 of either 100 or 200\n",
    "\n",
    "    almost_there(90) --> True\n",
    "    almost_there(104) --> True\n",
    "    almost_there(150) --> False\n",
    "    almost_there(209) --> True\n",
    "    \n",
    "NOTE: `abs(num)` returns the absolute value of a number"
   ]
  },
  {
   "cell_type": "code",
   "execution_count": 28,
   "metadata": {},
   "outputs": [
    {
     "name": "stdout",
     "output_type": "stream",
     "text": [
      "True\n",
      "True\n",
      "False\n",
      "True\n"
     ]
    }
   ],
   "source": [
    "def almost_there(n):\n",
    "    return 90 <= n <= 110 or 190 <= n <= 210\n",
    "print(almost_there(90))\n",
    "print(almost_there(104)) \n",
    "print(almost_there(150)) \n",
    "print(almost_there(209))"
   ]
  },
  {
   "cell_type": "markdown",
   "metadata": {},
   "source": [
    "#### BLACKJACK: Given three integers between 1 and 11, if their sum is less than or equal to 21, return their sum. If their sum exceeds 21 *and* there's an eleven, reduce the total sum by 10. Finally, if the sum  exceeds 21, return 'BUST'\n",
    "    blackjack(5,6,7) --> 18\n",
    "    blackjack(9,9,9) --> 'BUST'\n",
    "    blackjack(9,9,11) --> 19"
   ]
  },
  {
   "cell_type": "code",
   "execution_count": 30,
   "metadata": {},
   "outputs": [
    {
     "name": "stdout",
     "output_type": "stream",
     "text": [
      "18\n",
      "BUST\n",
      "19\n"
     ]
    }
   ],
   "source": [
    "def blackjack(a, b, c):\n",
    " \n",
    "    sum = a + b + c\n",
    "    if sum <= 21:\n",
    "        return sum\n",
    "    elif sum > 21:\n",
    "        if a == 11 or b == 11 or c == 11:\n",
    "            return sum-10\n",
    "        else:\n",
    "            return 'BUST'\n",
    "\n",
    "\n",
    "\n",
    "print(blackjack(5,6,7))\n",
    "print(blackjack(9,9,9))\n",
    "print(blackjack(9,9,11))"
   ]
  },
  {
   "cell_type": "code",
   "execution_count": null,
   "metadata": {},
   "outputs": [],
   "source": []
  }
 ],
 "metadata": {
  "kernelspec": {
   "display_name": "Python 3 (ipykernel)",
   "language": "python",
   "name": "python3"
  },
  "language_info": {
   "codemirror_mode": {
    "name": "ipython",
    "version": 3
   },
   "file_extension": ".py",
   "mimetype": "text/x-python",
   "name": "python",
   "nbconvert_exporter": "python",
   "pygments_lexer": "ipython3",
   "version": "3.9.12"
  },
  "vscode": {
   "interpreter": {
    "hash": "99887611a3b5ebbd8a07ea48bb13d66e0fa7e73358c40850c8a363e543e054a3"
   }
  }
 },
 "nbformat": 4,
 "nbformat_minor": 2
}
